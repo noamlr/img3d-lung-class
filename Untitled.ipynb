{
 "cells": [
  {
   "cell_type": "code",
   "execution_count": null,
   "metadata": {},
   "outputs": [],
   "source": [
    "# You can freely modify this file.\n",
    "# However, you need to have a function that is named get_model and returns a Keras Model.\n",
    "import keras as k\n",
    "from keras import models\n",
    "from keras import layers\n",
    "from keras import utils\n",
    "\n",
    "def get_model():\n",
    "    img_height = 448\n",
    "    img_width = 448\n",
    "    img_channels = 3\n",
    "\n",
    "    input_shape = (img_height, img_width, img_channels)\n",
    "    img_input = k.applications.ResNet101(weights='imagenet', include_top=False, input_shape=input_shape)\n",
    "    # img_input = k.Input(shape=input_shape)\n",
    "    # conv1 = layers.Conv2D(64, 3, activation = 'relu', padding = 'same', kernel_initializer = 'he_normal')(img_input)\n",
    "    # conv1 = layers.Conv2D(64, 3, activation = 'relu', padding = 'same', kernel_initializer = 'he_normal')(conv1)\n",
    "    # pool1 = layers.MaxPooling2D(pool_size=(2, 2))(conv1)\n",
    "    # conv2 = layers.Conv2D(128, 3, activation = 'relu', padding = 'same', kernel_initializer = 'he_normal')(pool1)\n",
    "    # conv2 = layers.Conv2D(128, 3, activation = 'relu', padding = 'same', kernel_initializer = 'he_normal')(conv2)\n",
    "    # pool2 = layers.MaxPooling2D(pool_size=(2, 2))(conv2)\n",
    "\n",
    "    x = conv_base.output\n",
    "    x = layers.GlobalAveragePooling2D()(x)\n",
    "    '''Added'''\n",
    "    x = layers.Flatten(name='flatten')(x)\n",
    "    x = layers.Dropout(0.2)(x)\n",
    "    x = layers.Dense(1024, activation = 'relu')(x)\n",
    "    x = tf.keras.layers.Dense(1024, activation = 'relu')(x)\n",
    "    x = layers.Dropout(0.2)(x)\n",
    "    x = layers.BatchNormalization()(x)\n",
    "    preds = tf.keras.layers.Dense(units=3, activation='softmax')(x)\n",
    "    model = Model(inputs=img_input.input, outputs=preds)\n",
    "    # model = models.Model(img_input, pool2)\n",
    "\n",
    "    return model\n",
    "\n"
   ]
  },
  {
   "cell_type": "code",
   "execution_count": null,
   "metadata": {},
   "outputs": [],
   "source": [
    "!pip install keras"
   ]
  },
  {
   "cell_type": "code",
   "execution_count": 1,
   "metadata": {},
   "outputs": [],
   "source": [
    "from tensorflow import keras as k\n",
    "from tensorflow.keras import models\n",
    "from tensorflow.keras import layers\n",
    "from tensorflow.keras import utils"
   ]
  },
  {
   "cell_type": "code",
   "execution_count": 2,
   "metadata": {},
   "outputs": [],
   "source": [
    "\n",
    "def get_model():\n",
    "    img_height = 448\n",
    "    img_width = 448\n",
    "    img_channels = 3\n",
    "\n",
    "    shape = (img_height, img_width, img_channels)\n",
    "    img_input = k.applications.VGG19(include_top=False, input_shape=shape)\n",
    "    \n",
    "    x = img_input.output\n",
    "    x = layers.GlobalAveragePooling2D()(x)\n",
    "    '''Added'''\n",
    "    x = layers.Flatten(name='flatten')(x)\n",
    "    x = layers.Dropout(0.2)(x)\n",
    "    x = layers.Dense(1024, activation = 'relu')(x)\n",
    "    x = layers.Dense(1024, activation = 'relu')(x)\n",
    "    x = layers.Dropout(0.2)(x)\n",
    "    x = layers.BatchNormalization()(x)\n",
    "    preds = layers.Dense(units=3, activation='softmax')(x)\n",
    "    model = models.Model(inputs=img_input.input, outputs=preds)\n",
    "    # model = models.Model(img_input, pool2)\n",
    "\n",
    "    return model\n"
   ]
  },
  {
   "cell_type": "code",
   "execution_count": 3,
   "metadata": {},
   "outputs": [],
   "source": [
    "model = get_model()\n",
    "model.save_weights('model_outvgg19.h5')"
   ]
  },
  {
   "cell_type": "code",
   "execution_count": null,
   "metadata": {},
   "outputs": [],
   "source": [
    "# You can freely modify this file.\n",
    "# However, you need to have a function that is named get_model and returns a Keras Model.\n",
    "import keras as k\n",
    "from keras import models\n",
    "from keras import layers\n",
    "from keras import utils\n",
    "\n",
    "def get_model():\n",
    "    img_height = 448\n",
    "    img_width = 448\n",
    "    img_channels = 3\n",
    "\n",
    "    input_shape = (img_height, img_width, img_channels)\n",
    "    img_input = k.Input(shape=input_shape)\n",
    "    # conv1 = layers.MaxPooling2D(pool_size=(2, 2))(img_input)\n",
    "    # conv1 = layers.ZeroPadding2D((3, 3))(img_input)\n",
    "    conv1 = layers.Conv2D(2048, 35, activation = 'relu', name='resnet')(img_input)\n",
    "    # conv1 = layers.Conv2D(64, 3, activation = 'relu', padding = 'same', kernel_initializer = 'he_normal')(conv1)\n",
    "    # pool1 = layers.MaxPooling2D(pool_size=(2, 2))(conv1)\n",
    "    # conv2 = layers.Conv2D(128, 3, activation = 'relu', padding = 'same', kernel_initializer = 'he_normal')(pool1)\n",
    "    # conv2 = layers.Conv2D(128, 3, activation = 'relu', padding = 'same', kernel_initializer = 'he_normal')(conv2)\n",
    "    # pool2 = layers.MaxPooling2D(pool_size=(2, 2))(conv2)\n",
    "    \n",
    "    x = layers.GlobalAveragePooling2D()(conv1)\n",
    "    '''Added'''\n",
    "    x = layers.Flatten(name='flatten')(x)\n",
    "    x = layers.Dropout(0.2)(x)\n",
    "    x = layers.Dense(1024, activation = 'relu')(x)\n",
    "    x = layers.Dense(1024, activation = 'relu')(x)\n",
    "    x = layers.Dropout(0.2)(x)\n",
    "    x = layers.BatchNormalization()(x)\n",
    "    preds = layers.Dense(units=3, activation='softmax')(x)\n",
    "\n",
    "    model = models.Model(img_input, preds)\n",
    "\n",
    "    return model\n"
   ]
  }
 ],
 "metadata": {
  "kernelspec": {
   "display_name": "Python 3",
   "language": "python",
   "name": "python3"
  },
  "language_info": {
   "codemirror_mode": {
    "name": "ipython",
    "version": 3
   },
   "file_extension": ".py",
   "mimetype": "text/x-python",
   "name": "python",
   "nbconvert_exporter": "python",
   "pygments_lexer": "ipython3",
   "version": "3.7.3"
  }
 },
 "nbformat": 4,
 "nbformat_minor": 4
}
