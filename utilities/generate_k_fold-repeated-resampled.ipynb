{
 "cells": [
  {
   "cell_type": "markdown",
   "metadata": {},
   "source": [
    "## Create folds\n",
    "Notebook to create K folds for data train and validation and save it in dataframe format\n",
    "\n",
    "It will get the quantity of classes automatically"
   ]
  },
  {
   "cell_type": "code",
   "execution_count": 1,
   "metadata": {},
   "outputs": [],
   "source": [
    "'''\n",
    "CSV_INPUT_ALL_CLASSES: Path to csv file containing all the dataset\n",
    "OUTPUT_TRAIN_FOLDER: Folder to save split TRAIN folds\n",
    "OUTPUT_TEST_FOLDER: Folder to save split TEST folds\n",
    "K_FOLDS: Folds number to be generated\n",
    "'''\n",
    "DATA_FOLDER='covnet-5folds-rr/'\n",
    "# CSV_INPUT_ALL_CLASSES='../csv/input/all_classes_hmv_hcpa.csv'\n",
    "CSV_INPUT_ALL_CLASSES='../csv/input/hmv_hcpa-covid_others-decovnet.csv'\n",
    "OUTPUT_TRAIN_FOLDER='../csv/input/'+ DATA_FOLDER +'train/'\n",
    "OUTPUT_TEST_FOLDER='../csv/input/'+ DATA_FOLDER +'validation/'\n",
    "K_FOLDS=5"
   ]
  },
  {
   "cell_type": "code",
   "execution_count": 2,
   "metadata": {},
   "outputs": [],
   "source": [
    "import numpy as np # linear algebra\n",
    "import pandas as pd # data processing, CSV file I/O (e.g. pd.read_csv)\n",
    "from sklearn.model_selection import StratifiedKFold\n",
    "\n",
    "import glob\n",
    "import os\n",
    "from datetime import datetime"
   ]
  },
  {
   "cell_type": "code",
   "execution_count": 3,
   "metadata": {},
   "outputs": [],
   "source": [
    "'''\n",
    "Make all paths exist\n",
    "'''\n",
    "if not os.path.exists('../csv/'): \n",
    "    os.mkdir('../csv/')\n",
    "if not os.path.exists('../csv/input/'): \n",
    "    os.mkdir('../csv/input/')\n",
    "if not os.path.exists('../csv/input/'+DATA_FOLDER): \n",
    "    os.mkdir('../csv/input/'+DATA_FOLDER)\n",
    "if not os.path.exists(OUTPUT_TRAIN_FOLDER): \n",
    "    os.mkdir(OUTPUT_TRAIN_FOLDER)\n",
    "if not os.path.exists(OUTPUT_TEST_FOLDER): \n",
    "    os.mkdir(OUTPUT_TEST_FOLDER)"
   ]
  },
  {
   "cell_type": "code",
   "execution_count": 4,
   "metadata": {},
   "outputs": [
    {
     "data": {
      "text/html": [
       "<div>\n",
       "<style scoped>\n",
       "    .dataframe tbody tr th:only-of-type {\n",
       "        vertical-align: middle;\n",
       "    }\n",
       "\n",
       "    .dataframe tbody tr th {\n",
       "        vertical-align: top;\n",
       "    }\n",
       "\n",
       "    .dataframe thead th {\n",
       "        text-align: right;\n",
       "    }\n",
       "</style>\n",
       "<table border=\"1\" class=\"dataframe\">\n",
       "  <thead>\n",
       "    <tr style=\"text-align: right;\">\n",
       "      <th></th>\n",
       "      <th>nome</th>\n",
       "      <th>covid</th>\n",
       "    </tr>\n",
       "  </thead>\n",
       "  <tbody>\n",
       "    <tr>\n",
       "      <th>0</th>\n",
       "      <td>ATY-001</td>\n",
       "      <td>others</td>\n",
       "    </tr>\n",
       "    <tr>\n",
       "      <th>1</th>\n",
       "      <td>ATY-003</td>\n",
       "      <td>others</td>\n",
       "    </tr>\n",
       "    <tr>\n",
       "      <th>2</th>\n",
       "      <td>ATY-004</td>\n",
       "      <td>others</td>\n",
       "    </tr>\n",
       "    <tr>\n",
       "      <th>3</th>\n",
       "      <td>ATY-005</td>\n",
       "      <td>others</td>\n",
       "    </tr>\n",
       "    <tr>\n",
       "      <th>4</th>\n",
       "      <td>ATY-006</td>\n",
       "      <td>others</td>\n",
       "    </tr>\n",
       "    <tr>\n",
       "      <th>...</th>\n",
       "      <td>...</td>\n",
       "      <td>...</td>\n",
       "    </tr>\n",
       "    <tr>\n",
       "      <th>380</th>\n",
       "      <td>TYP-027</td>\n",
       "      <td>covid</td>\n",
       "    </tr>\n",
       "    <tr>\n",
       "      <th>381</th>\n",
       "      <td>TYP-028</td>\n",
       "      <td>covid</td>\n",
       "    </tr>\n",
       "    <tr>\n",
       "      <th>382</th>\n",
       "      <td>TYP-029</td>\n",
       "      <td>covid</td>\n",
       "    </tr>\n",
       "    <tr>\n",
       "      <th>383</th>\n",
       "      <td>TYP-030</td>\n",
       "      <td>covid</td>\n",
       "    </tr>\n",
       "    <tr>\n",
       "      <th>384</th>\n",
       "      <td>TYP-031</td>\n",
       "      <td>covid</td>\n",
       "    </tr>\n",
       "  </tbody>\n",
       "</table>\n",
       "<p>385 rows × 2 columns</p>\n",
       "</div>"
      ],
      "text/plain": [
       "        nome   covid\n",
       "0    ATY-001  others\n",
       "1    ATY-003  others\n",
       "2    ATY-004  others\n",
       "3    ATY-005  others\n",
       "4    ATY-006  others\n",
       "..       ...     ...\n",
       "380  TYP-027   covid\n",
       "381  TYP-028   covid\n",
       "382  TYP-029   covid\n",
       "383  TYP-030   covid\n",
       "384  TYP-031   covid\n",
       "\n",
       "[385 rows x 2 columns]"
      ]
     },
     "execution_count": 4,
     "metadata": {},
     "output_type": "execute_result"
    }
   ],
   "source": [
    "df = pd.read_csv(CSV_INPUT_ALL_CLASSES)\n",
    "df"
   ]
  },
  {
   "cell_type": "code",
   "execution_count": 5,
   "metadata": {},
   "outputs": [
    {
     "data": {
      "text/plain": [
       "array(['covid', 'others'], dtype=object)"
      ]
     },
     "execution_count": 5,
     "metadata": {},
     "output_type": "execute_result"
    }
   ],
   "source": [
    "# Get all classes in the dataframe\n",
    "ar_classes = df.covid.unique()\n",
    "ar_classes.sort()\n",
    "ar_classes"
   ]
  },
  {
   "cell_type": "code",
   "execution_count": 6,
   "metadata": {},
   "outputs": [
    {
     "name": "stdout",
     "output_type": "stream",
     "text": [
      "122 0.3168831168831169\n",
      "263 0.6831168831168831\n",
      "63.3766\n",
      "136.6232\n"
     ]
    }
   ],
   "source": [
    "cov = len(df[df['covid'] == 'covid'])\n",
    "oth = len(df[df['covid'] == 'others'])\n",
    "\n",
    "print(cov, cov/len(df))\n",
    "print(oth, oth/len(df))\n",
    "print(200*0.316883) # 63\n",
    "print(200*0.683116) # 137"
   ]
  },
  {
   "cell_type": "markdown",
   "metadata": {},
   "source": [
    "Generate the split to train and test samples."
   ]
  },
  {
   "cell_type": "code",
   "execution_count": 9,
   "metadata": {},
   "outputs": [
    {
     "name": "stdout",
     "output_type": "stream",
     "text": [
      "train:  63 137 200\n",
      "val:  59 126 185\n",
      "\n",
      "train:  63 137 200\n",
      "val:  59 126 185\n",
      "\n",
      "train:  63 137 200\n",
      "val:  59 126 185\n",
      "\n",
      "train:  63 137 200\n",
      "val:  59 126 185\n",
      "\n",
      "train:  63 137 200\n",
      "val:  59 126 185\n",
      "\n"
     ]
    }
   ],
   "source": [
    "# for i in range(K_FOLDS):\n",
    "df.loc[df[\"covid\"] == \"covid\", \"covid\"] = 0\n",
    "df.loc[df[\"covid\"] == \"others\", \"covid\"] = 1\n",
    "for i in range(K_FOLDS):\n",
    "    fold = i+1\n",
    "    df_cov = df[df[\"covid\"] == 0]\n",
    "    df_cov.reset_index()\n",
    "    chosen_idx = np.random.choice(len(df_cov), size=63, replace=False)\n",
    "#     print(chosen_idx)\n",
    "    df_train_cov = df_cov.iloc[chosen_idx].reset_index(drop=True)\n",
    "    df_val_cov = pd.concat([df_cov.reset_index(drop=True),df_train_cov]).drop_duplicates(keep=False)\n",
    "    \n",
    "    df_oth = df[df[\"covid\"] == 1]\n",
    "    df_oth.reset_index()\n",
    "    chosen_idx = np.random.choice(len(df_oth), size=137, replace=False)\n",
    "    df_train_oth = df_oth.iloc[chosen_idx].reset_index(drop=True)\n",
    "    df_val_oth = pd.concat([df_oth.reset_index(drop=True),df_train_oth]).drop_duplicates(keep=False)\n",
    "    \n",
    "    df_train = pd.concat([df_train_cov, df_train_oth]).sort_values(by=['covid'])\n",
    "    df_val = pd.concat([df_val_cov, df_val_oth]).sort_values(by=['covid'])\n",
    "    df_train = df_train.rename(columns={'nome': 'case', 'covid': 'label'})\n",
    "    df_train.to_csv(OUTPUT_TRAIN_FOLDER+'train'+str(fold)+'.csv', index=False)\n",
    "    df_tr = df_val.rename(columns={'nome': 'case', 'covid': 'label'})\n",
    "    df_val.to_csv(OUTPUT_TEST_FOLDER+'validation'+str(fold)+'.csv', index=False)\n",
    "    \n",
    "    print('train: ', len(df_train_cov), len(df_train_oth), len(df_train))\n",
    "    print('val: ', len(df_val_cov), len(df_val_oth), len(df_val))\n",
    "    print()\n"
   ]
  },
  {
   "cell_type": "code",
   "execution_count": null,
   "metadata": {},
   "outputs": [],
   "source": []
  },
  {
   "cell_type": "code",
   "execution_count": null,
   "metadata": {},
   "outputs": [],
   "source": []
  },
  {
   "cell_type": "code",
   "execution_count": null,
   "metadata": {},
   "outputs": [],
   "source": []
  },
  {
   "cell_type": "markdown",
   "metadata": {},
   "source": [
    "# Test for 1 fold"
   ]
  },
  {
   "cell_type": "code",
   "execution_count": 45,
   "metadata": {},
   "outputs": [
    {
     "name": "stdout",
     "output_type": "stream",
     "text": [
      "240\n",
      "Int64Index([  1,   3,   6,   8,  11,  15,  16,  17,  18,  19,\n",
      "            ...\n",
      "            366, 368, 371, 372, 374, 376, 378, 380, 381, 382],\n",
      "           dtype='int64', length=240)\n",
      "143\n",
      "Int64Index([  0,   2,   4,   5,   7,   9,  10,  12,  13,  14,\n",
      "            ...\n",
      "            359, 362, 363, 367, 369, 370, 373, 375, 377, 379],\n",
      "           dtype='int64', length=143)\n"
     ]
    }
   ],
   "source": [
    "s_a = df[df['covid'] == \"ATYPICAL\"].sample(40).index\n",
    "s_i = df[df['covid'] == \"INDETERMINATE\"].sample(40).index\n",
    "s_n = df[df['covid'] == \"NEGATIVE\"].sample(40).index\n",
    "s_p = df[df['covid'] == \"POSITIVE\"].sample(120).index\n",
    "\n",
    "\n",
    "df2 = df.loc[s_a.union(s_i).union(s_n).union(s_p)]\n",
    "df2.index\n",
    "print(len(df2))\n",
    "print(df2.index)\n",
    "df2.to_csv('../csv/input/all_classes_hmv_hcpa_SAMPLE.csv', index=False)\n",
    "\n",
    "df_test = df[ ~df.isin(df2)].dropna()\n",
    "\n",
    "print(len(df_test))\n",
    "print(df_test.index)\n",
    "df_test.to_csv('../csv/input/all_classes_hmv_hcpa_TEST.csv', index=False)"
   ]
  },
  {
   "cell_type": "code",
   "execution_count": null,
   "metadata": {},
   "outputs": [],
   "source": []
  },
  {
   "cell_type": "code",
   "execution_count": null,
   "metadata": {},
   "outputs": [],
   "source": []
  }
 ],
 "metadata": {
  "kernelspec": {
   "display_name": "Python 3",
   "language": "python",
   "name": "python3"
  },
  "language_info": {
   "codemirror_mode": {
    "name": "ipython",
    "version": 3
   },
   "file_extension": ".py",
   "mimetype": "text/x-python",
   "name": "python",
   "nbconvert_exporter": "python",
   "pygments_lexer": "ipython3",
   "version": "3.7.3"
  }
 },
 "nbformat": 4,
 "nbformat_minor": 4
}
