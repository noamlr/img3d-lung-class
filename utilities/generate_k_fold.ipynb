{
 "cells": [
  {
   "cell_type": "markdown",
   "metadata": {},
   "source": [
    "## Create folds\n",
    "Notebook to create K folds for data train and validation and save it in dataframe format\n",
    "\n",
    "It will get the quantity of classes automatically"
   ]
  },
  {
   "cell_type": "code",
   "execution_count": 46,
   "metadata": {},
   "outputs": [],
   "source": [
    "'''\n",
    "CSV_INPUT_ALL_CLASSES: Path to csv file containing all the dataset\n",
    "OUTPUT_TRAIN_FOLDER: Folder to save split TRAIN folds\n",
    "OUTPUT_TEST_FOLDER: Folder to save split TEST folds\n",
    "K_FOLDS: Folds number to be generated\n",
    "'''\n",
    "DATA_FOLDER='finalv1/'\n",
    "# CSV_INPUT_ALL_CLASSES='../csv/input/all_classes_hmv_hcpa.csv'\n",
    "CSV_INPUT_ALL_CLASSES='../csv/input/all_classes_hmv_hcpa_SAMPLE.csv'\n",
    "OUTPUT_TRAIN_FOLDER='../csv/input/'+ DATA_FOLDER +'train/'\n",
    "OUTPUT_TEST_FOLDER='../csv/input/'+ DATA_FOLDER +'test/'\n",
    "K_FOLDS=4"
   ]
  },
  {
   "cell_type": "code",
   "execution_count": 47,
   "metadata": {},
   "outputs": [],
   "source": [
    "import numpy as np # linear algebra\n",
    "import pandas as pd # data processing, CSV file I/O (e.g. pd.read_csv)\n",
    "from sklearn.model_selection import StratifiedKFold\n",
    "\n",
    "import glob\n",
    "import os\n",
    "from datetime import datetime"
   ]
  },
  {
   "cell_type": "code",
   "execution_count": 48,
   "metadata": {},
   "outputs": [],
   "source": [
    "'''\n",
    "Make all paths exist\n",
    "'''\n",
    "if not os.path.exists('../csv/'): \n",
    "    os.mkdir('../csv/')\n",
    "if not os.path.exists('../csv/input/'): \n",
    "    os.mkdir('../csv/input/')\n",
    "if not os.path.exists('../csv/input/'+DATA_FOLDER): \n",
    "    os.mkdir('../csv/input/'+DATA_FOLDER)\n",
    "if not os.path.exists(OUTPUT_TRAIN_FOLDER): \n",
    "    os.mkdir(OUTPUT_TRAIN_FOLDER)\n",
    "if not os.path.exists(OUTPUT_TEST_FOLDER): \n",
    "    os.mkdir(OUTPUT_TEST_FOLDER)"
   ]
  },
  {
   "cell_type": "code",
   "execution_count": 49,
   "metadata": {},
   "outputs": [
    {
     "data": {
      "text/html": [
       "<div>\n",
       "<style scoped>\n",
       "    .dataframe tbody tr th:only-of-type {\n",
       "        vertical-align: middle;\n",
       "    }\n",
       "\n",
       "    .dataframe tbody tr th {\n",
       "        vertical-align: top;\n",
       "    }\n",
       "\n",
       "    .dataframe thead th {\n",
       "        text-align: right;\n",
       "    }\n",
       "</style>\n",
       "<table border=\"1\" class=\"dataframe\">\n",
       "  <thead>\n",
       "    <tr style=\"text-align: right;\">\n",
       "      <th></th>\n",
       "      <th>nome</th>\n",
       "      <th>covid</th>\n",
       "    </tr>\n",
       "  </thead>\n",
       "  <tbody>\n",
       "    <tr>\n",
       "      <th>0</th>\n",
       "      <td>NEG-002</td>\n",
       "      <td>NEGATIVE</td>\n",
       "    </tr>\n",
       "    <tr>\n",
       "      <th>1</th>\n",
       "      <td>NEG-004</td>\n",
       "      <td>NEGATIVE</td>\n",
       "    </tr>\n",
       "    <tr>\n",
       "      <th>2</th>\n",
       "      <td>NEG-007</td>\n",
       "      <td>NEGATIVE</td>\n",
       "    </tr>\n",
       "    <tr>\n",
       "      <th>3</th>\n",
       "      <td>NEG-009</td>\n",
       "      <td>NEGATIVE</td>\n",
       "    </tr>\n",
       "    <tr>\n",
       "      <th>4</th>\n",
       "      <td>NEG-012</td>\n",
       "      <td>NEGATIVE</td>\n",
       "    </tr>\n",
       "    <tr>\n",
       "      <th>...</th>\n",
       "      <td>...</td>\n",
       "      <td>...</td>\n",
       "    </tr>\n",
       "    <tr>\n",
       "      <th>235</th>\n",
       "      <td>N241</td>\n",
       "      <td>ATYPICAL</td>\n",
       "    </tr>\n",
       "    <tr>\n",
       "      <th>236</th>\n",
       "      <td>N248</td>\n",
       "      <td>ATYPICAL</td>\n",
       "    </tr>\n",
       "    <tr>\n",
       "      <th>237</th>\n",
       "      <td>N270</td>\n",
       "      <td>ATYPICAL</td>\n",
       "    </tr>\n",
       "    <tr>\n",
       "      <th>238</th>\n",
       "      <td>N271</td>\n",
       "      <td>ATYPICAL</td>\n",
       "    </tr>\n",
       "    <tr>\n",
       "      <th>239</th>\n",
       "      <td>N280</td>\n",
       "      <td>ATYPICAL</td>\n",
       "    </tr>\n",
       "  </tbody>\n",
       "</table>\n",
       "<p>240 rows × 2 columns</p>\n",
       "</div>"
      ],
      "text/plain": [
       "        nome     covid\n",
       "0    NEG-002  NEGATIVE\n",
       "1    NEG-004  NEGATIVE\n",
       "2    NEG-007  NEGATIVE\n",
       "3    NEG-009  NEGATIVE\n",
       "4    NEG-012  NEGATIVE\n",
       "..       ...       ...\n",
       "235     N241  ATYPICAL\n",
       "236     N248  ATYPICAL\n",
       "237     N270  ATYPICAL\n",
       "238     N271  ATYPICAL\n",
       "239     N280  ATYPICAL\n",
       "\n",
       "[240 rows x 2 columns]"
      ]
     },
     "execution_count": 49,
     "metadata": {},
     "output_type": "execute_result"
    }
   ],
   "source": [
    "df = pd.read_csv(CSV_INPUT_ALL_CLASSES)\n",
    "df"
   ]
  },
  {
   "cell_type": "code",
   "execution_count": 50,
   "metadata": {},
   "outputs": [
    {
     "data": {
      "text/plain": [
       "array(['ATYPICAL', 'INDETERMINATE', 'NEGATIVE', 'POSITIVE'], dtype=object)"
      ]
     },
     "execution_count": 50,
     "metadata": {},
     "output_type": "execute_result"
    }
   ],
   "source": [
    "# Get all classes in the dataframe\n",
    "ar_classes = df.covid.unique()\n",
    "ar_classes.sort()\n",
    "ar_classes"
   ]
  },
  {
   "cell_type": "code",
   "execution_count": 51,
   "metadata": {},
   "outputs": [
    {
     "data": {
      "text/html": [
       "<div>\n",
       "<style scoped>\n",
       "    .dataframe tbody tr th:only-of-type {\n",
       "        vertical-align: middle;\n",
       "    }\n",
       "\n",
       "    .dataframe tbody tr th {\n",
       "        vertical-align: top;\n",
       "    }\n",
       "\n",
       "    .dataframe thead th {\n",
       "        text-align: right;\n",
       "    }\n",
       "</style>\n",
       "<table border=\"1\" class=\"dataframe\">\n",
       "  <thead>\n",
       "    <tr style=\"text-align: right;\">\n",
       "      <th></th>\n",
       "      <th>nome</th>\n",
       "      <th>covid</th>\n",
       "      <th>int_covid</th>\n",
       "    </tr>\n",
       "  </thead>\n",
       "  <tbody>\n",
       "    <tr>\n",
       "      <th>0</th>\n",
       "      <td>NEG-002</td>\n",
       "      <td>NEGATIVE</td>\n",
       "      <td>2</td>\n",
       "    </tr>\n",
       "    <tr>\n",
       "      <th>1</th>\n",
       "      <td>NEG-004</td>\n",
       "      <td>NEGATIVE</td>\n",
       "      <td>2</td>\n",
       "    </tr>\n",
       "    <tr>\n",
       "      <th>2</th>\n",
       "      <td>NEG-007</td>\n",
       "      <td>NEGATIVE</td>\n",
       "      <td>2</td>\n",
       "    </tr>\n",
       "    <tr>\n",
       "      <th>3</th>\n",
       "      <td>NEG-009</td>\n",
       "      <td>NEGATIVE</td>\n",
       "      <td>2</td>\n",
       "    </tr>\n",
       "    <tr>\n",
       "      <th>4</th>\n",
       "      <td>NEG-012</td>\n",
       "      <td>NEGATIVE</td>\n",
       "      <td>2</td>\n",
       "    </tr>\n",
       "    <tr>\n",
       "      <th>...</th>\n",
       "      <td>...</td>\n",
       "      <td>...</td>\n",
       "      <td>...</td>\n",
       "    </tr>\n",
       "    <tr>\n",
       "      <th>235</th>\n",
       "      <td>N241</td>\n",
       "      <td>ATYPICAL</td>\n",
       "      <td>0</td>\n",
       "    </tr>\n",
       "    <tr>\n",
       "      <th>236</th>\n",
       "      <td>N248</td>\n",
       "      <td>ATYPICAL</td>\n",
       "      <td>0</td>\n",
       "    </tr>\n",
       "    <tr>\n",
       "      <th>237</th>\n",
       "      <td>N270</td>\n",
       "      <td>ATYPICAL</td>\n",
       "      <td>0</td>\n",
       "    </tr>\n",
       "    <tr>\n",
       "      <th>238</th>\n",
       "      <td>N271</td>\n",
       "      <td>ATYPICAL</td>\n",
       "      <td>0</td>\n",
       "    </tr>\n",
       "    <tr>\n",
       "      <th>239</th>\n",
       "      <td>N280</td>\n",
       "      <td>ATYPICAL</td>\n",
       "      <td>0</td>\n",
       "    </tr>\n",
       "  </tbody>\n",
       "</table>\n",
       "<p>240 rows × 3 columns</p>\n",
       "</div>"
      ],
      "text/plain": [
       "        nome     covid  int_covid\n",
       "0    NEG-002  NEGATIVE          2\n",
       "1    NEG-004  NEGATIVE          2\n",
       "2    NEG-007  NEGATIVE          2\n",
       "3    NEG-009  NEGATIVE          2\n",
       "4    NEG-012  NEGATIVE          2\n",
       "..       ...       ...        ...\n",
       "235     N241  ATYPICAL          0\n",
       "236     N248  ATYPICAL          0\n",
       "237     N270  ATYPICAL          0\n",
       "238     N271  ATYPICAL          0\n",
       "239     N280  ATYPICAL          0\n",
       "\n",
       "[240 rows x 3 columns]"
      ]
     },
     "execution_count": 51,
     "metadata": {},
     "output_type": "execute_result"
    }
   ],
   "source": [
    "df['int_covid'] = 0\n",
    "for i in range(len(ar_classes)):\n",
    "    df.loc[ df.covid==ar_classes[i], 'int_covid'] = i\n",
    "df\n",
    "\n",
    "# print(len(df[df['covid'] == 'covid']))\n",
    "# print(len(df[df['covid'] == 'non covid']))"
   ]
  },
  {
   "cell_type": "markdown",
   "metadata": {},
   "source": [
    "Generate the split to train and test samples."
   ]
  },
  {
   "cell_type": "code",
   "execution_count": 52,
   "metadata": {},
   "outputs": [],
   "source": [
    "X = df.index.to_list()\n",
    "y = df['int_covid'].to_list()\n",
    "skf = StratifiedKFold(n_splits=K_FOLDS, shuffle=True)\n",
    "skf.get_n_splits(X, y)\n",
    "# print(skf)\n",
    "j = 1\n",
    "for train_index, test_index in skf.split(X, y):\n",
    "    df_train = pd.DataFrame(columns=['nome', 'covid'])\n",
    "    for i in train_index:\n",
    "        df_train = df_train.append(df.iloc[i])\n",
    "    df_train = df_train.drop(columns=['int_covid'])\n",
    "    df_train.to_csv( OUTPUT_TRAIN_FOLDER + 'train'+str(j)+'.csv', index=False)\n",
    "    df_train.loc[df_train['covid'] == 'ATYPICAL', 'covid'] = 'others'\n",
    "    df_train.loc[df_train['covid'] == 'INDETERMINATE', 'covid'] = 'others'\n",
    "    df_train.loc[df_train['covid'] == 'NEGATIVE', 'covid'] = 'others'\n",
    "    df_train.loc[df_train['covid'] == 'POSITIVE', 'covid'] = 'covid'\n",
    "    df_train.to_csv(OUTPUT_TRAIN_FOLDER+'train'+str(j)+'_binario.csv', index=False)\n",
    "    \n",
    "    df_test = pd.DataFrame(columns=['nome', 'covid'])\n",
    "    for i in test_index:\n",
    "        df_test = df_test.append(df.iloc[i])\n",
    "    df_test = df_test.drop(columns=['int_covid'])\n",
    "    df_test.to_csv(OUTPUT_TEST_FOLDER+'test'+str(j)+'.csv', index=False)\n",
    "    df_test.loc[df_test['covid'] == 'ATYPICAL', 'covid'] = 'others'\n",
    "    df_test.loc[df_test['covid'] == 'INDETERMINATE', 'covid'] = 'others'\n",
    "    df_test.loc[df_test['covid'] == 'NEGATIVE', 'covid'] = 'others'\n",
    "    df_test.loc[df_test['covid'] == 'POSITIVE', 'covid'] = 'covid'\n",
    "    df_test.to_csv(OUTPUT_TEST_FOLDER+'test'+str(j)+'_binario.csv', index=False)\n",
    "    j+=1\n"
   ]
  },
  {
   "cell_type": "code",
   "execution_count": null,
   "metadata": {},
   "outputs": [],
   "source": []
  },
  {
   "cell_type": "code",
   "execution_count": null,
   "metadata": {},
   "outputs": [],
   "source": []
  },
  {
   "cell_type": "code",
   "execution_count": null,
   "metadata": {},
   "outputs": [],
   "source": []
  },
  {
   "cell_type": "markdown",
   "metadata": {},
   "source": [
    "# Test for 1 fold"
   ]
  },
  {
   "cell_type": "code",
   "execution_count": 45,
   "metadata": {},
   "outputs": [
    {
     "name": "stdout",
     "output_type": "stream",
     "text": [
      "240\n",
      "Int64Index([  1,   3,   6,   8,  11,  15,  16,  17,  18,  19,\n",
      "            ...\n",
      "            366, 368, 371, 372, 374, 376, 378, 380, 381, 382],\n",
      "           dtype='int64', length=240)\n",
      "143\n",
      "Int64Index([  0,   2,   4,   5,   7,   9,  10,  12,  13,  14,\n",
      "            ...\n",
      "            359, 362, 363, 367, 369, 370, 373, 375, 377, 379],\n",
      "           dtype='int64', length=143)\n"
     ]
    }
   ],
   "source": [
    "s_a = df[df['covid'] == \"ATYPICAL\"].sample(40).index\n",
    "s_i = df[df['covid'] == \"INDETERMINATE\"].sample(40).index\n",
    "s_n = df[df['covid'] == \"NEGATIVE\"].sample(40).index\n",
    "s_p = df[df['covid'] == \"POSITIVE\"].sample(120).index\n",
    "\n",
    "\n",
    "df2 = df.loc[s_a.union(s_i).union(s_n).union(s_p)]\n",
    "df2.index\n",
    "print(len(df2))\n",
    "print(df2.index)\n",
    "df2.to_csv('../csv/input/all_classes_hmv_hcpa_SAMPLE.csv', index=False)\n",
    "\n",
    "df_test = df[ ~df.isin(df2)].dropna()\n",
    "\n",
    "print(len(df_test))\n",
    "print(df_test.index)\n",
    "df_test.to_csv('../csv/input/all_classes_hmv_hcpa_TEST.csv', index=False)"
   ]
  },
  {
   "cell_type": "code",
   "execution_count": null,
   "metadata": {},
   "outputs": [],
   "source": []
  },
  {
   "cell_type": "code",
   "execution_count": null,
   "metadata": {},
   "outputs": [],
   "source": []
  }
 ],
 "metadata": {
  "kernelspec": {
   "display_name": "Python 3",
   "language": "python",
   "name": "python3"
  },
  "language_info": {
   "codemirror_mode": {
    "name": "ipython",
    "version": 3
   },
   "file_extension": ".py",
   "mimetype": "text/x-python",
   "name": "python",
   "nbconvert_exporter": "python",
   "pygments_lexer": "ipython3",
   "version": "3.7.3"
  }
 },
 "nbformat": 4,
 "nbformat_minor": 4
}
