{
 "cells": [
  {
   "cell_type": "markdown",
   "metadata": {},
   "source": [
    "## Create folds\n",
    "Notebook to create K folds for data train and validation and save it in dataframe format\n",
    "\n",
    "It will get the quantity of classes automatically"
   ]
  },
  {
   "cell_type": "code",
   "execution_count": 5,
   "metadata": {},
   "outputs": [],
   "source": [
    "'''\n",
    "CSV_INPUT_ALL_CLASSES: Path to csv file containing all the dataset\n",
    "OUTPUT_TRAIN_FOLDER: Folder to save split TRAIN folds\n",
    "OUTPUT_TEST_FOLDER: Folder to save split TEST folds\n",
    "K_FOLDS: Folds number to be generated\n",
    "'''\n",
    "DATA_FOLDER='hh_bin_posind_atyneg_tf66/'\n",
    "CSV_INPUT_ALL_CLASSES='../csv/input/all_hmvhcpa_covposind_othatyneg.csv'\n",
    "# CSV_INPUT_ALL_CLASSES='../csv/input/all_hmv_hcpa-covid_noncovid.csv'\n",
    "# CSV_INPUT_ALL_CLASSES_2='../csv/input/all_classes_hcpa.csv'\n",
    "OUTPUT_TRAIN_FOLDER='../csv/input/'+ DATA_FOLDER +'train/'\n",
    "OUTPUT_TEST_FOLDER='../csv/input/'+ DATA_FOLDER +'validation/'\n",
    "K_FOLDS=5"
   ]
  },
  {
   "cell_type": "code",
   "execution_count": 6,
   "metadata": {},
   "outputs": [],
   "source": [
    "import numpy as np # linear algebra\n",
    "import pandas as pd # data processing, CSV file I/O (e.g. pd.read_csv)\n",
    "from sklearn.model_selection import StratifiedKFold\n",
    "\n",
    "import glob\n",
    "import os\n",
    "from datetime import datetime"
   ]
  },
  {
   "cell_type": "code",
   "execution_count": 7,
   "metadata": {},
   "outputs": [],
   "source": [
    "'''\n",
    "Make all paths exist\n",
    "'''\n",
    "if not os.path.exists('../csv/'): \n",
    "    os.mkdir('../csv/')\n",
    "if not os.path.exists('../csv/input/'): \n",
    "    os.mkdir('../csv/input/')\n",
    "if not os.path.exists('../csv/input/'+DATA_FOLDER): \n",
    "    os.mkdir('../csv/input/'+DATA_FOLDER)\n",
    "if not os.path.exists(OUTPUT_TRAIN_FOLDER): \n",
    "    os.mkdir(OUTPUT_TRAIN_FOLDER)\n",
    "if not os.path.exists(OUTPUT_TEST_FOLDER): \n",
    "    os.mkdir(OUTPUT_TEST_FOLDER)"
   ]
  },
  {
   "cell_type": "code",
   "execution_count": 8,
   "metadata": {},
   "outputs": [
    {
     "data": {
      "text/html": [
       "<div>\n",
       "<style scoped>\n",
       "    .dataframe tbody tr th:only-of-type {\n",
       "        vertical-align: middle;\n",
       "    }\n",
       "\n",
       "    .dataframe tbody tr th {\n",
       "        vertical-align: top;\n",
       "    }\n",
       "\n",
       "    .dataframe thead th {\n",
       "        text-align: right;\n",
       "    }\n",
       "</style>\n",
       "<table border=\"1\" class=\"dataframe\">\n",
       "  <thead>\n",
       "    <tr style=\"text-align: right;\">\n",
       "      <th></th>\n",
       "      <th>nome</th>\n",
       "      <th>covid</th>\n",
       "    </tr>\n",
       "  </thead>\n",
       "  <tbody>\n",
       "    <tr>\n",
       "      <th>0</th>\n",
       "      <td>NEG-001</td>\n",
       "      <td>others</td>\n",
       "    </tr>\n",
       "    <tr>\n",
       "      <th>1</th>\n",
       "      <td>NEG-002</td>\n",
       "      <td>others</td>\n",
       "    </tr>\n",
       "    <tr>\n",
       "      <th>2</th>\n",
       "      <td>NEG-003</td>\n",
       "      <td>others</td>\n",
       "    </tr>\n",
       "    <tr>\n",
       "      <th>3</th>\n",
       "      <td>NEG-004</td>\n",
       "      <td>others</td>\n",
       "    </tr>\n",
       "    <tr>\n",
       "      <th>4</th>\n",
       "      <td>NEG-005</td>\n",
       "      <td>others</td>\n",
       "    </tr>\n",
       "    <tr>\n",
       "      <th>...</th>\n",
       "      <td>...</td>\n",
       "      <td>...</td>\n",
       "    </tr>\n",
       "    <tr>\n",
       "      <th>378</th>\n",
       "      <td>N248</td>\n",
       "      <td>others</td>\n",
       "    </tr>\n",
       "    <tr>\n",
       "      <th>379</th>\n",
       "      <td>N258</td>\n",
       "      <td>others</td>\n",
       "    </tr>\n",
       "    <tr>\n",
       "      <th>380</th>\n",
       "      <td>N270</td>\n",
       "      <td>others</td>\n",
       "    </tr>\n",
       "    <tr>\n",
       "      <th>381</th>\n",
       "      <td>N271</td>\n",
       "      <td>others</td>\n",
       "    </tr>\n",
       "    <tr>\n",
       "      <th>382</th>\n",
       "      <td>N280</td>\n",
       "      <td>others</td>\n",
       "    </tr>\n",
       "  </tbody>\n",
       "</table>\n",
       "<p>383 rows × 2 columns</p>\n",
       "</div>"
      ],
      "text/plain": [
       "        nome   covid\n",
       "0    NEG-001  others\n",
       "1    NEG-002  others\n",
       "2    NEG-003  others\n",
       "3    NEG-004  others\n",
       "4    NEG-005  others\n",
       "..       ...     ...\n",
       "378     N248  others\n",
       "379     N258  others\n",
       "380     N270  others\n",
       "381     N271  others\n",
       "382     N280  others\n",
       "\n",
       "[383 rows x 2 columns]"
      ]
     },
     "execution_count": 8,
     "metadata": {},
     "output_type": "execute_result"
    }
   ],
   "source": [
    "df = pd.read_csv(CSV_INPUT_ALL_CLASSES)\n",
    "# df_2 = pd.read_csv(CSV_INPUT_ALL_CLASSES_2)\n",
    "# df = df.append(df_2)\n",
    "df"
   ]
  },
  {
   "cell_type": "markdown",
   "metadata": {},
   "source": [
    "# Binary Classification"
   ]
  },
  {
   "cell_type": "code",
   "execution_count": 9,
   "metadata": {},
   "outputs": [],
   "source": [
    "# Set arrays\n",
    "train_folds = [\n",
    "    ['IND-018', 'IND-020', 'IND-006', 'N234', 'C160', 'TYP-003', 'TYP-005', 'C32', 'IND-025', 'IND-001', 'N261', 'C131', 'TYP-022', 'C20', 'N196', 'C13', 'N213', 'C97', 'C98', 'C123', 'C35', 'C71', 'TYP-026', 'N173', 'N249', 'C113', 'C114', 'IND-030', 'C135', 'C80', 'N161', 'N300', 'TYP-013', 'C19', 'C74', 'C143', 'C144', 'N160', 'TYP-002', 'N200', 'C18', 'C25', 'C51', 'C36', 'N251', 'N170', 'TYP-018', 'C8', 'N202', 'C90', 'C91', 'N204', 'C68', 'C41', 'N293', 'C65', 'TYP-031', 'N184', 'TYP-024', 'C69', 'C38', 'N182', 'TYP-027', 'N220', 'TYP-019', 'C107', 'N256', 'IND-007', 'IND-009', 'TYP-004', 'C156', 'N172', 'C163', 'C57', 'N281', 'C157', 'C117', 'C129', 'IND-014', 'TYP-014', 'IND-024', 'TYP-009', 'TYP-020', 'TYP-023', 'C132', 'C15', 'IND-012', 'IND-029', 'C39', 'TYP-016', 'N176', 'C44', 'C115', 'C88', 'C109', 'N272', 'C77', 'IND-004', 'IND-016', 'C145', 'C96', 'N205', 'IND-028', 'C146', 'TYP-010', 'C84', 'C136', 'TYP-007', 'C130', 'C128', 'C12', 'TYP-025', 'C34', 'TYP-028', 'C111', 'IND-021', 'TYP-030', 'C30', 'C21', 'C40', 'C103', 'N247', 'N286', 'N208', 'IND-011', 'C14', 'C79', 'C138', 'C155', 'IND-017', 'C121', 'N269', 'C26', 'N237', 'C72', 'C158', 'TYP-029', 'C150', 'N285', 'IND-003', 'C93', 'C16', 'N294', 'N273', 'N178', 'IND-019', 'C116', 'N267', 'IND-002', 'IND-008', 'C85', 'N230', 'N238', 'C37', 'TYP-006', 'N190', 'C33', 'N194', 'C112', 'N203', 'C47', 'TYP-021', 'C75', 'C101', 'C17', 'IND-013', 'IND-026', 'C139', 'C54', 'N167', 'C28', 'N246', 'IND-023', 'C24', 'C87', 'NEG-012', 'ATY-004', 'N164', 'N296', 'N253', 'C137', 'C67', 'N248', 'C61', 'N222', 'N227', 'C66', 'ATY-028', 'ATY-019', 'C147', 'C78', 'ATY-011', 'C43', 'N192', 'N198', 'N209', 'N279', 'ATY-021', 'N169', 'C89', 'ATY-015', 'C122', 'C46', 'N183', 'C29', 'ATY-012', 'NEG-014', 'N299', 'NEG-008', 'N175', 'N274', 'N166', 'N232', 'N163', 'N291', 'N235', 'NEG-004', 'C70', 'C152', 'ATY-002', 'C9', 'N280', 'ATY-003', 'N165', 'N233', 'ATY-010', 'ATY-005', 'ATY-013', 'N174', 'N297', 'N283', 'C5', 'N263', 'ATY-008', 'N252', 'N219', 'C126', 'N195', 'C59', 'N168', 'N221', 'N295', 'ATY-025', 'N223', 'N239', 'C100', 'ATY-022', 'N288', 'C141', 'C86', 'N216', 'C120', 'ATY-027', 'N270', 'C64', 'N290', 'C52', 'ATY-026', 'N177', 'N229', 'C73', 'C42', 'NEG-013', 'N193', 'C105', 'N282', 'N284', 'N255', 'N243', 'C102', 'C92', 'ATY-001', 'N228', 'ATY-023', 'NEG-005', 'C3', 'C81', 'ATY-014', 'C63', 'N210', 'NEG-006', 'C127', 'ATY-020', 'C56', 'NEG-001', 'C62', 'N276', 'N207', 'ATY-029', 'N231', 'C118', 'N245', 'ATY-017', 'ATY-007', 'N185', 'N188', 'NEG-009', 'N180', 'C58', 'N181', 'C55', 'C76', 'NEG-002', 'N214', 'NEG-010', 'C104', 'N212'],\n",
    "    ['IND-018', 'C140', 'IND-006', 'N234', 'C160', 'C32', 'IND-001', 'N261', 'TYP-022', 'N196', 'C11', 'C13', 'C23', 'C125', 'C110', 'N213', 'C97', 'C35', 'N254', 'C71', 'TYP-026', 'C114', 'IND-030', 'C135', 'N161', 'N300', 'C19', 'C74', 'C143', 'C144', 'N160', 'TYP-002', 'N200', 'C18', 'C25', 'C36', 'N251', 'N170', 'TYP-018', 'N202', 'C90', 'C91', 'C68', 'TYP-011', 'C154', 'C41', 'N293', 'C65', 'TYP-031', 'N184', 'C69', 'IND-010', 'C38', 'C162', 'N220', 'TYP-019', 'C149', 'C107', 'N256', 'N266', 'IND-007', 'TYP-004', 'C156', 'N172', 'N240', 'C83', 'N259', 'C163', 'TYP-012', 'C57', 'N201', 'C157', 'C117', 'C129', 'C161', 'TYP-014', 'IND-024', 'TYP-009', 'TYP-020', 'TYP-023', 'C132', 'C15', 'IND-012', 'C142', 'IND-029', 'C39', 'TYP-016', 'N176', 'C44', 'N171', 'C119', 'C115', 'C88', 'C109', 'IND-004', 'C145', 'C96', 'N275', 'C60', 'C49', 'IND-005', 'TYP-010', 'C151', 'C84', 'C94', 'IND-027', 'C130', 'C128', 'N242', 'C31', 'IND-021', 'TYP-030', 'C30', 'C21', 'C40', 'C103', 'N247', 'N286', 'C48', 'TYP-017', 'N208', 'IND-011', 'IND-022', 'C148', 'C14', 'C79', 'C45', 'C133', 'C99', 'C155', 'IND-017', 'C121', 'N269', 'TYP-015', 'C26', 'C72', 'N189', 'C158', 'TYP-029', 'C150', 'C93', 'C16', 'N294', 'N273', 'N178', 'IND-019', 'N267', 'IND-002', 'IND-008', 'C85', 'N230', 'C124', 'N238', 'C37', 'TYP-006', 'N190', 'C33', 'C112', 'N203', 'C47', 'TYP-021', 'TYP-008', 'C75', 'C27', 'C101', 'C17', 'IND-013', 'IND-026', 'C139', 'C54', 'C82', 'N246', 'IND-023', 'C24', 'C87', 'NEG-012', 'ATY-004', 'N260', 'N164', 'N296', 'N253', 'C137', 'C67', 'N248', 'C61', 'N222', 'N227', 'C66', 'C147', 'C78', 'C43', 'NEG-007', 'N192', 'N187', 'N198', 'N209', 'NEG-015', 'ATY-009', 'C159', 'ATY-024', 'N279', 'C22', 'N257', 'ATY-021', 'N169', 'C89', 'N206', 'C122', 'N183', 'C29', 'ATY-012', 'NEG-014', 'C50', 'NEG-008', 'N191', 'N175', 'C164', 'NEG-011', 'N274', 'N166', 'N232', 'C108', 'N291', 'N235', 'C152', 'C9', 'N280', 'ATY-003', 'N233', 'ATY-013', 'N174', 'C5', 'N263', 'ATY-008', 'N271', 'ATY-006', 'N252', 'N219', 'C126', 'N244', 'N195', 'C59', 'N221', 'N265', 'N295', 'ATY-025', 'N223', 'N239', 'C100', 'ATY-022', 'N288', 'C86', 'C120', 'NEG-003', 'N197', 'ATY-027', 'N270', 'C106', 'N264', 'N236', 'C52', 'ATY-026', 'N177', 'N229', 'C73', 'C42', 'N193', 'C105', 'N282', 'N278', 'N284', 'N255', 'ATY-016', 'N243', 'C102', 'C92', 'ATY-001', 'N228', 'C3', 'C81', 'ATY-014', 'NEG-006', 'C127', 'ATY-020', 'C56', 'C62', 'N276', 'ATY-029', 'N289', 'N241', 'C118', 'N245', 'ATY-017', 'ATY-007', 'ATY-030', 'N185', 'N188', 'N181', 'N258', 'NEG-002', 'N214', 'NEG-010', 'ATY-018', 'C104', 'N226', 'N212', 'C134'],\n",
    "    ['IND-018', 'IND-020', 'C140', 'IND-006', 'N234', 'C160', 'TYP-003', 'TYP-005', 'C32', 'IND-025', 'IND-001', 'C131', 'TYP-022', 'C20', 'C11', 'C13', 'C23', 'C125', 'C110', 'C98', 'C123', 'C35', 'N254', 'C71', 'TYP-026', 'N173', 'N249', 'C113', 'C135', 'C80', 'N161', 'TYP-013', 'C74', 'C143', 'C144', 'TYP-002', 'N200', 'C18', 'C25', 'C51', 'C36', 'N251', 'N170', 'TYP-018', 'C8', 'C90', 'C91', 'N204', 'TYP-011', 'C154', 'C41', 'N293', 'TYP-031', 'TYP-024', 'IND-010', 'C38', 'N182', 'C162', 'TYP-027', 'TYP-019', 'C149', 'C107', 'N256', 'N266', 'IND-007', 'IND-009', 'TYP-004', 'C156', 'N240', 'C83', 'N259', 'C163', 'TYP-012', 'C57', 'N281', 'N201', 'C157', 'C117', 'C161', 'IND-014', 'TYP-014', 'IND-024', 'TYP-009', 'TYP-020', 'TYP-023', 'C132', 'C15', 'IND-012', 'C142', 'IND-029', 'TYP-016', 'N171', 'C119', 'C115', 'C88', 'C109', 'N272', 'C77', 'IND-004', 'IND-016', 'C145', 'N205', 'IND-028', 'N275', 'C146', 'C60', 'C49', 'IND-005', 'TYP-010', 'C151', 'C84', 'C94', 'IND-027', 'C136', 'TYP-007', 'C130', 'N242', 'C12', 'TYP-025', 'C34', 'C31', 'TYP-028', 'C111', 'IND-021', 'C30', 'C21', 'N247', 'C48', 'TYP-017', 'N208', 'IND-011', 'IND-022', 'C148', 'C14', 'C79', 'C45', 'C138', 'C133', 'C99', 'IND-017', 'C121', 'TYP-015', 'C26', 'N237', 'N189', 'C158', 'TYP-029', 'C150', 'N285', 'IND-003', 'C93', 'C116', 'IND-002', 'IND-008', 'C85', 'C124', 'N238', 'TYP-006', 'C33', 'N194', 'N203', 'C47', 'TYP-021', 'TYP-008', 'C75', 'C27', 'C17', 'IND-026', 'C54', 'C82', 'N167', 'C28', 'IND-023', 'C24', 'ATY-004', 'N260', 'N164', 'N296', 'N253', 'C137', 'C67', 'N248', 'C61', 'N222', 'C66', 'ATY-028', 'ATY-019', 'C147', 'ATY-011', 'C43', 'NEG-007', 'N192', 'N187', 'N209', 'NEG-015', 'ATY-009', 'C159', 'ATY-024', 'N279', 'C22', 'N257', 'ATY-021', 'C89', 'ATY-015', 'N206', 'C122', 'C46', 'N183', 'ATY-012', 'NEG-014', 'N299', 'C50', 'N191', 'C164', 'NEG-011', 'N274', 'N232', 'C108', 'N163', 'N291', 'N235', 'NEG-004', 'C70', 'C152', 'ATY-002', 'N280', 'N165', 'N233', 'ATY-010', 'ATY-005', 'N174', 'N297', 'N283', 'C5', 'N263', 'ATY-008', 'N271', 'ATY-006', 'N219', 'C126', 'N244', 'N195', 'N168', 'N221', 'N265', 'ATY-025', 'C100', 'C141', 'C86', 'N216', 'NEG-003', 'N197', 'ATY-027', 'N270', 'C64', 'N290', 'C106', 'N264', 'N236', 'C52', 'N177', 'C73', 'C42', 'NEG-013', 'N193', 'C105', 'N282', 'N278', 'ATY-016', 'N243', 'C102', 'C92', 'ATY-001', 'N228', 'ATY-023', 'NEG-005', 'C3', 'C81', 'ATY-014', 'C63', 'N210', 'NEG-006', 'C127', 'ATY-020', 'C56', 'NEG-001', 'C62', 'N207', 'N289', 'N231', 'N241', 'C118', 'ATY-007', 'ATY-030', 'NEG-009', 'N180', 'C58', 'N181', 'N258', 'C55', 'C76', 'NEG-002', 'N214', 'ATY-018', 'N226', 'N212', 'C134'],\n",
    "    ['IND-020', 'C140', 'IND-006', 'TYP-003', 'TYP-005', 'IND-025', 'N261', 'C131', 'C20', 'N196', 'C11', 'C23', 'C125', 'C110', 'N213', 'C97', 'C98', 'C123', 'N254', 'N173', 'N249', 'C113', 'C114', 'IND-030', 'C80', 'N161', 'N300', 'TYP-013', 'C19', 'C74', 'N160', 'TYP-002', 'N200', 'C25', 'C51', 'C36', 'N170', 'TYP-018', 'C8', 'N202', 'C91', 'N204', 'C68', 'TYP-011', 'C154', 'C65', 'N184', 'TYP-024', 'C69', 'IND-010', 'C38', 'N182', 'C162', 'TYP-027', 'N220', 'C149', 'N256', 'N266', 'IND-009', 'TYP-004', 'N172', 'N240', 'C83', 'N259', 'TYP-012', 'C57', 'N281', 'N201', 'C157', 'C129', 'C161', 'IND-014', 'TYP-014', 'IND-024', 'TYP-009', 'TYP-023', 'C15', 'IND-012', 'C142', 'C39', 'N176', 'C44', 'N171', 'C119', 'C88', 'N272', 'C77', 'IND-016', 'C96', 'N205', 'IND-028', 'N275', 'C146', 'C60', 'C49', 'IND-005', 'TYP-010', 'C151', 'C94', 'IND-027', 'C136', 'TYP-007', 'C130', 'C128', 'N242', 'C12', 'TYP-025', 'C34', 'C31', 'TYP-028', 'C111', 'IND-021', 'TYP-030', 'C30', 'C21', 'C40', 'C103', 'N247', 'N286', 'C48', 'TYP-017', 'IND-011', 'IND-022', 'C148', 'C14', 'C79', 'C45', 'C138', 'C133', 'C99', 'C155', 'C121', 'N269', 'TYP-015', 'N237', 'C72', 'N189', 'TYP-029', 'N285', 'IND-003', 'C16', 'N294', 'N273', 'N178', 'IND-019', 'C116', 'N267', 'IND-008', 'N230', 'C124', 'N238', 'C37', 'TYP-006', 'N190', 'N194', 'C112', 'N203', 'C47', 'TYP-021', 'TYP-008', 'C75', 'C27', 'C101', 'C17', 'IND-013', 'IND-026', 'C139', 'C54', 'C82', 'N167', 'C28', 'N246', 'IND-023', 'C24', 'C87', 'NEG-012', 'N260', 'N296', 'C137', 'C67', 'N248', 'N222', 'N227', 'C66', 'ATY-028', 'ATY-019', 'C147', 'C78', 'ATY-011', 'NEG-007', 'N192', 'N187', 'N198', 'N209', 'NEG-015', 'ATY-009', 'C159', 'ATY-024', 'C22', 'N257', 'N169', 'C89', 'ATY-015', 'N206', 'C122', 'C46', 'C29', 'N299', 'C50', 'NEG-008', 'N191', 'N175', 'C164', 'NEG-011', 'N274', 'N166', 'C108', 'N163', 'N291', 'N235', 'NEG-004', 'C70', 'ATY-002', 'C9', 'ATY-003', 'N165', 'N233', 'ATY-010', 'ATY-005', 'ATY-013', 'N174', 'N297', 'N283', 'C5', 'N271', 'ATY-006', 'N252', 'N219', 'N244', 'C59', 'N168', 'N265', 'N295', 'N223', 'N239', 'C100', 'ATY-022', 'N288', 'C141', 'N216', 'C120', 'NEG-003', 'N197', 'C64', 'N290', 'C106', 'N264', 'N236', 'C52', 'ATY-026', 'N177', 'N229', 'C42', 'NEG-013', 'N193', 'C105', 'N278', 'N284', 'N255', 'ATY-016', 'C92', 'ATY-001', 'N228', 'ATY-023', 'NEG-005', 'C3', 'C63', 'N210', 'NEG-006', 'ATY-020', 'NEG-001', 'N276', 'N207', 'ATY-029', 'N289', 'N231', 'N241', 'C118', 'N245', 'ATY-017', 'ATY-030', 'N185', 'N188', 'NEG-009', 'N180', 'C58', 'N258', 'C55', 'C76', 'NEG-002', 'N214', 'NEG-010', 'ATY-018', 'C104', 'N226', 'N212', 'C134'],\n",
    "    ['IND-018', 'IND-020', 'C140', 'N234', 'C160', 'TYP-003', 'TYP-005', 'C32', 'IND-025', 'IND-001', 'N261', 'C131', 'TYP-022', 'C20', 'N196', 'C11', 'C13', 'C23', 'C125', 'C110', 'N213', 'C97', 'C98', 'C123', 'C35', 'N254', 'C71', 'TYP-026', 'N173', 'N249', 'C113', 'C114', 'IND-030', 'C135', 'C80', 'N300', 'TYP-013', 'C19', 'C143', 'C144', 'N160', 'C18', 'C51', 'N251', 'C8', 'N202', 'C90', 'N204', 'C68', 'TYP-011', 'C154', 'C41', 'N293', 'C65', 'TYP-031', 'N184', 'TYP-024', 'C69', 'IND-010', 'N182', 'C162', 'TYP-027', 'N220', 'TYP-019', 'C149', 'C107', 'N266', 'IND-007', 'IND-009', 'C156', 'N172', 'N240', 'C83', 'N259', 'C163', 'TYP-012', 'N281', 'N201', 'C117', 'C129', 'C161', 'IND-014', 'TYP-020', 'C132', 'C142', 'IND-029', 'C39', 'TYP-016', 'N176', 'C44', 'N171', 'C119', 'C115', 'C109', 'N272', 'C77', 'IND-004', 'IND-016', 'C145', 'C96', 'N205', 'IND-028', 'N275', 'C146', 'C60', 'C49', 'IND-005', 'C151', 'C84', 'C94', 'IND-027', 'C136', 'TYP-007', 'C128', 'N242', 'C12', 'TYP-025', 'C34', 'C31', 'TYP-028', 'C111', 'TYP-030', 'C40', 'C103', 'N286', 'C48', 'TYP-017', 'N208', 'IND-022', 'C148', 'C45', 'C138', 'C133', 'C99', 'C155', 'IND-017', 'N269', 'TYP-015', 'C26', 'N237', 'C72', 'N189', 'C158', 'C150', 'N285', 'IND-003', 'C93', 'C16', 'N294', 'N273', 'N178', 'IND-019', 'C116', 'N267', 'IND-002', 'C85', 'N230', 'C124', 'C37', 'N190', 'C33', 'N194', 'C112', 'TYP-008', 'C27', 'C101', 'IND-013', 'C139', 'C82', 'N167', 'C28', 'N246', 'C87', 'NEG-012', 'ATY-004', 'N260', 'N164', 'N253', 'C61', 'N227', 'ATY-028', 'ATY-019', 'C78', 'ATY-011', 'C43', 'NEG-007', 'N187', 'N198', 'NEG-015', 'ATY-009', 'C159', 'ATY-024', 'N279', 'C22', 'N257', 'ATY-021', 'N169', 'ATY-015', 'N206', 'C46', 'N183', 'C29', 'ATY-012', 'NEG-014', 'N299', 'C50', 'NEG-008', 'N191', 'N175', 'C164', 'NEG-011', 'N166', 'N232', 'C108', 'N163', 'NEG-004', 'C70', 'C152', 'ATY-002', 'C9', 'N280', 'ATY-003', 'N165', 'ATY-010', 'ATY-005', 'ATY-013', 'N297', 'N283', 'N263', 'ATY-008', 'N271', 'ATY-006', 'N252', 'C126', 'N244', 'N195', 'C59', 'N168', 'N221', 'N265', 'N295', 'ATY-025', 'N223', 'N239', 'ATY-022', 'N288', 'C141', 'C86', 'N216', 'C120', 'NEG-003', 'N197', 'ATY-027', 'N270', 'C64', 'N290', 'C106', 'N264', 'N236', 'ATY-026', 'N229', 'C73', 'NEG-013', 'N282', 'N278', 'N284', 'N255', 'ATY-016', 'N243', 'C102', 'ATY-023', 'NEG-005', 'C81', 'ATY-014', 'C63', 'N210', 'C127', 'C56', 'NEG-001', 'C62', 'N276', 'N207', 'ATY-029', 'N289', 'N231', 'N241', 'N245', 'ATY-017', 'ATY-007', 'ATY-030', 'N185', 'N188', 'NEG-009', 'N180', 'C58', 'N181', 'N258', 'C55', 'C76', 'NEG-010', 'ATY-018', 'C104', 'N226', 'C134']\n",
    "]\n",
    "test_folds = [\n",
    "    ['C94', 'TYP-012', 'C125', 'C154', 'N171', 'N201', 'C151', 'IND-005', 'C23', 'C162', 'TYP-015', 'C45', 'N242', 'N259', 'C142', 'IND-022', 'N266', 'C27', 'C110', 'TYP-011', 'C148', 'C60', 'N275', 'C119', 'C83', 'IND-010', 'C49', 'C149', 'TYP-017', 'C82', 'IND-027', 'N240', 'C31', 'C48', 'C11', 'N189', 'C140', 'N254', 'C133', 'TYP-008', 'C99', 'C124', 'C161', 'ATY-009', 'N265', 'N244', 'C134', 'N289', 'C22', 'ATY-018', 'N257', 'NEG-003', 'ATY-006', 'C106', 'N271', 'C108', 'NEG-011', 'N236', 'N206', 'N258', 'N241', 'N197', 'NEG-007', 'N187', 'ATY-030', 'N264', 'ATY-016', 'N191', 'N260', 'ATY-024', 'C50', 'C159', 'N278', 'NEG-015', 'N226', 'C164'],\n",
    "    ['TYP-013', 'TYP-024', 'C77', 'C131', 'N249', 'C116', 'N194', 'TYP-005', 'TYP-028', 'N237', 'C113', 'C20', 'C80', 'N272', 'IND-028', 'C51', 'N173', 'C98', 'N182', 'N285', 'TYP-027', 'C12', 'IND-025', 'TYP-007', 'N167', 'C136', 'N205', 'IND-003', 'C34', 'C111', 'IND-009', 'N204', 'N281', 'C28', 'C138', 'TYP-003', 'IND-020', 'C8', 'IND-016', 'C123', 'C146', 'TYP-025', 'IND-014', 'N216', 'NEG-005', 'N290', 'C64', 'N168', 'C141', 'ATY-023', 'NEG-001', 'N231', 'C55', 'N180', 'N283', 'N210', 'ATY-015', 'N299', 'C58', 'NEG-009', 'NEG-004', 'ATY-011', 'ATY-019', 'ATY-005', 'C46', 'NEG-013', 'N163', 'C63', 'C70', 'ATY-010', 'N297', 'ATY-028', 'C76', 'ATY-002', 'N207', 'N165'],\n",
    "    ['N246', 'N286', 'C103', 'C68', 'C19', 'N172', 'N178', 'C155', 'N196', 'IND-030', 'C72', 'N213', 'N190', 'C97', 'C44', 'C139', 'C40', 'C65', 'C37', 'N184', 'IND-013', 'C39', 'C101', 'C114', 'N176', 'C96', 'C69', 'N300', 'IND-019', 'N202', 'TYP-030', 'N230', 'N267', 'N160', 'N220', 'N273', 'N261', 'N269', 'C128', 'C112', 'C129', 'N294', 'C16', 'N188', 'NEG-012', 'C29', 'C78', 'N227', 'ATY-003', 'N295', 'N284', 'NEG-010', 'N185', 'N198', 'C9', 'NEG-008', 'N239', 'N245', 'ATY-029', 'ATY-022', 'ATY-017', 'N169', 'C59', 'C104', 'N175', 'N166', 'N255', 'ATY-026', 'N288', 'C120', 'N229', 'N252', 'ATY-013', 'C87', 'N223', 'N276'],\n",
    "    ['C163', 'C117', 'IND-002', 'TYP-016', 'C84', 'C115', 'C35', 'C150', 'C156', 'IND-001', 'IND-029', 'C41', 'C135', 'C71', 'C93', 'C132', 'TYP-020', 'N208', 'C109', 'C26', 'N293', 'TYP-019', 'IND-007', 'C160', 'C158', 'N234', 'C145', 'IND-017', 'N251', 'IND-004', 'C85', 'C143', 'TYP-031', 'C33', 'TYP-022', 'IND-018', 'C13', 'C144', 'C18', 'C32', 'C107', 'C90', 'TYP-026', 'C86', 'N243', 'ATY-027', 'C61', 'C127', 'NEG-014', 'N282', 'ATY-008', 'N195', 'ATY-021', 'ATY-004', 'ATY-025', 'N279', 'N164', 'C62', 'C102', 'ATY-012', 'N263', 'C43', 'ATY-007', 'C81', 'N253', 'ATY-014', 'C126', 'N270', 'C152', 'N232', 'C56', 'N181', 'C73', 'N221', 'N280', 'N183'],\n",
    "    ['C91', 'C25', 'N238', 'C79', 'C17', 'C14', 'C54', 'C88', 'N247', 'N256', 'TYP-029', 'IND-011', 'TYP-004', 'IND-012', 'C157', 'N161', 'TYP-014', 'TYP-009', 'IND-008', 'C38', 'C36', 'C30', 'IND-023', 'IND-026', 'TYP-023', 'TYP-006', 'N200', 'N170', 'C57', 'IND-024', 'C121', 'TYP-018', 'C74', 'C47', 'TYP-002', 'C15', 'C75', 'IND-006', 'C130', 'TYP-010', 'C21', 'N203', 'IND-021', 'TYP-021', 'C89', 'N296', 'N291', 'N235', 'C24', 'C67', 'C3', 'C118', 'N209', 'C100', 'C52', 'N177', 'C66', 'ATY-020', 'N214', 'NEG-002', 'C42', 'C105', 'N193', 'N222', 'C147', 'N233', 'C5', 'C92', 'C137', 'N248', 'N192', 'N174', 'ATY-001', 'N228', 'NEG-006', 'C122', 'N219', 'N212', 'N274']\n",
    "]"
   ]
  },
  {
   "cell_type": "code",
   "execution_count": 10,
   "metadata": {},
   "outputs": [],
   "source": [
    "for i in range(len(test_folds)):\n",
    "    df_temp = df.loc[df['nome'].isin(train_folds[i])]\n",
    "    df_temp.to_csv( OUTPUT_TRAIN_FOLDER + 'train'+str(i+1)+'.csv', index=False)\n",
    "    df_temp = df.loc[df['nome'].isin(test_folds[i])]\n",
    "    df_temp.to_csv(OUTPUT_TEST_FOLDER+'validation'+str(i+1)+'.csv', index=False)"
   ]
  },
  {
   "cell_type": "markdown",
   "metadata": {},
   "source": [
    "Generate the split to train and test samples."
   ]
  },
  {
   "cell_type": "code",
   "execution_count": null,
   "metadata": {},
   "outputs": [],
   "source": []
  }
 ],
 "metadata": {
  "kernelspec": {
   "display_name": "Python 3",
   "language": "python",
   "name": "python3"
  },
  "language_info": {
   "codemirror_mode": {
    "name": "ipython",
    "version": 3
   },
   "file_extension": ".py",
   "mimetype": "text/x-python",
   "name": "python",
   "nbconvert_exporter": "python",
   "pygments_lexer": "ipython3",
   "version": "3.7.3"
  }
 },
 "nbformat": 4,
 "nbformat_minor": 4
}
